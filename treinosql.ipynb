{
 "cells": [
  {
   "cell_type": "code",
   "execution_count": 29,
   "id": "cbe9a2d0",
   "metadata": {},
   "outputs": [],
   "source": [
    "import sqlite3\n",
    "import pandas as pd \n",
    "\n",
    "# Conectar um banco de datos ou crear\n",
    "conn = sqlite3.connect('teste.db')\n",
    "\n",
    "# Crear un objeto cursos\n",
    "cursor = conn.cursor()\n",
    "\n",
    "#cursor.execute('''\n",
    "#        DROP TABLE IF EXISTS tablacliente''')"
   ]
  },
  {
   "cell_type": "code",
   "execution_count": 24,
   "id": "5ba1a21a",
   "metadata": {},
   "outputs": [
    {
     "name": "stdout",
     "output_type": "stream",
     "text": [
      "Tabla creada con éxito.\n"
     ]
    }
   ],
   "source": [
    "# Crear una tabla nombre\n",
    "cursor.execute('''\n",
    "    CREATE TABLE IF NOT EXISTS tablacliente(\n",
    "        id INTEGER PRIMARY KEY AUTOINCREMENT,\n",
    "        cliente TEXT NOT NULL)''')\n",
    "\n",
    "conn.commit()\n",
    "print('Tabla creada con éxito.')"
   ]
  },
  {
   "cell_type": "code",
   "execution_count": 16,
   "id": "7dd58dd1",
   "metadata": {},
   "outputs": [
    {
     "name": "stdout",
     "output_type": "stream",
     "text": [
      "Tabla de productos creada com éxito.\n"
     ]
    }
   ],
   "source": [
    "# Crear otra tabla productos\n",
    "cursor.execute('''\n",
    "    CREATE TABLE IF NOT EXISTS tablaprod(\n",
    "        id_produucto INTEGER PRIMARY KEY AUTOINCREMENT,\n",
    "        producto TEXT NOT NULL,\n",
    "        precio FLOAT NOT NULL)''')\n",
    "\n",
    "conn.commit()\n",
    "print('Tabla de productos creada com éxito.')"
   ]
  },
  {
   "cell_type": "code",
   "execution_count": null,
   "id": "a7766712",
   "metadata": {},
   "outputs": [
    {
     "name": "stdout",
     "output_type": "stream",
     "text": [
      "Datos commitados con suceso.\n"
     ]
    },
    {
     "data": {
      "text/plain": [
       "[(1, 'A'),\n",
       " (2, 'B'),\n",
       " (3, 'C'),\n",
       " (4, 'D'),\n",
       " (5, 'E'),\n",
       " (6, 'F'),\n",
       " (7, 'G'),\n",
       " (8, 'H'),\n",
       " (9, 'I'),\n",
       " (10, 'J')]"
      ]
     },
     "execution_count": 25,
     "metadata": {},
     "output_type": "execute_result"
    }
   ],
   "source": [
    "# Insertar datos en la tabla de clientes\n",
    "cursor.execute('''\n",
    "    INSERT INTO tablacliente\n",
    "               (cliente)\n",
    "               VALUES\n",
    "               ('A'),\n",
    "               ('B'),\n",
    "               ('C'),\n",
    "               ('D'),\n",
    "               ('E'),\n",
    "               ('F'),\n",
    "               ('G'),\n",
    "               ('H'),\n",
    "               ('I'),\n",
    "               ('J')''')\n",
    "\n",
    "conn.commit()\n",
    "print('Datos commitados con suceso.')\n",
    "\n",
    "cursor.execute('''\n",
    "        SELECT * FROM tablacliente''')\n",
    "cursor.fetchall()\n"
   ]
  },
  {
   "cell_type": "code",
   "execution_count": 30,
   "id": "f4b3acae",
   "metadata": {},
   "outputs": [
    {
     "name": "stdout",
     "output_type": "stream",
     "text": [
      "   id cliente\n",
      "0   1       A\n",
      "1   2       B\n",
      "2   3       C\n",
      "3   4       D\n",
      "4   5       E\n",
      "5   6       F\n",
      "6   7       G\n",
      "7   8       H\n",
      "8   9       I\n",
      "9  10       J\n"
     ]
    }
   ],
   "source": [
    "# Consultar datos de la tabla de clientes usando pandas\n",
    "query = '''\n",
    "        SELECT * FROM tablacliente'''\n",
    "df = pd.read_sql_query(query, conn)\n",
    "#conn.close()\n",
    "print(df)"
   ]
  },
  {
   "cell_type": "code",
   "execution_count": 19,
   "id": "1337e329",
   "metadata": {},
   "outputs": [
    {
     "name": "stdout",
     "output_type": "stream",
     "text": [
      "Datos de productos commitados con suceso.\n"
     ]
    },
    {
     "data": {
      "text/plain": [
       "[(1, 'Producto A', 10.99),\n",
       " (2, 'Producto B', 20.49),\n",
       " (3, 'Producto C', 15.75),\n",
       " (4, 'Producto D', 8.99),\n",
       " (5, 'Producto E', 12.5),\n",
       " (6, 'Producto F', 5.99),\n",
       " (7, 'Producto G', 30.0),\n",
       " (8, 'Producto H', 25.0),\n",
       " (9, 'Producto I', 18.75),\n",
       " (10, 'Producto J', 22.3),\n",
       " (11, 'Producto K', 9.99),\n",
       " (12, 'Producto L', 14.99),\n",
       " (13, 'Producto M', 19.99),\n",
       " (14, 'Producto N', 11.49),\n",
       " (15, 'Producto O', 17.89),\n",
       " (16, 'Producto P', 13.5),\n",
       " (17, 'Producto Q', 21.99),\n",
       " (18, 'Producto R', 16.75),\n",
       " (19, 'Producto S', 27.5),\n",
       " (20, 'Producto T', 24.99),\n",
       " (21, 'Producto U', 29.99),\n",
       " (22, 'Producto V', 28.49),\n",
       " (23, 'Producto W', 23.75),\n",
       " (24, 'Producto X', 26.99),\n",
       " (25, 'Producto Y', 31.5),\n",
       " (26, 'Producto Z', 32.0)]"
      ]
     },
     "execution_count": 19,
     "metadata": {},
     "output_type": "execute_result"
    }
   ],
   "source": [
    "# Insertar datos en la tabla de productos\n",
    "cursor.execute('''\n",
    "        INSERT INTO tablaprod\n",
    "            (producto, precio)\n",
    "            VALUES\n",
    "            ('Producto A', 10.99),\n",
    "            ('Producto B', 20.49),\n",
    "            ('Producto C', 15.75),\n",
    "            ('Producto D', 8.99),\n",
    "            ('Producto E', 12.50),\n",
    "            ('Producto F', 5.99),\n",
    "            ('Producto G', 30.00),\n",
    "            ('Producto H', 25.00),\n",
    "            ('Producto I', 18.75),\n",
    "            ('Producto J', 22.30),\n",
    "            ('Producto K', 9.99),\n",
    "            ('Producto L', 14.99),\n",
    "            ('Producto M', 19.99),\n",
    "            ('Producto N', 11.49),\n",
    "            ('Producto O', 17.89),\n",
    "            ('Producto P', 13.50),\n",
    "            ('Producto Q', 21.99),\n",
    "            ('Producto R', 16.75),\n",
    "            ('Producto S', 27.50),\n",
    "            ('Producto T', 24.99),\n",
    "            ('Producto U', 29.99),\n",
    "            ('Producto V', 28.49),\n",
    "            ('Producto W', 23.75),\n",
    "            ('Producto X', 26.99),\n",
    "            ('Producto Y', 31.50),\n",
    "            ('Producto Z', 32.00)''')\n",
    "conn.commit()\n",
    "print('Datos de productos commitados con suceso.')\n",
    "\n",
    "cursor.execute('''\n",
    "        SELECT * FROM tablaprod''')\n",
    "cursor.fetchall()"
   ]
  },
  {
   "cell_type": "code",
   "execution_count": 32,
   "id": "f8493f90",
   "metadata": {},
   "outputs": [
    {
     "name": "stdout",
     "output_type": "stream",
     "text": [
      "    id_produucto    producto  precio\n",
      "0              1  Producto A   10.99\n",
      "1              2  Producto B   20.49\n",
      "2              3  Producto C   15.75\n",
      "3              4  Producto D    8.99\n",
      "4              5  Producto E   12.50\n",
      "5              6  Producto F    5.99\n",
      "6              7  Producto G   30.00\n",
      "7              8  Producto H   25.00\n",
      "8              9  Producto I   18.75\n",
      "9             10  Producto J   22.30\n",
      "10            11  Producto K    9.99\n",
      "11            12  Producto L   14.99\n",
      "12            13  Producto M   19.99\n",
      "13            14  Producto N   11.49\n",
      "14            15  Producto O   17.89\n",
      "15            16  Producto P   13.50\n",
      "16            17  Producto Q   21.99\n",
      "17            18  Producto R   16.75\n",
      "18            19  Producto S   27.50\n",
      "19            20  Producto T   24.99\n",
      "20            21  Producto U   29.99\n",
      "21            22  Producto V   28.49\n",
      "22            23  Producto W   23.75\n",
      "23            24  Producto X   26.99\n",
      "24            25  Producto Y   31.50\n",
      "25            26  Producto Z   32.00\n"
     ]
    }
   ],
   "source": [
    "# Consultar datos de la tabla de productos usando pandas\n",
    "\n",
    "query = '''\n",
    "    SELECT * FROM tablaprod'''\n",
    "df_prod = pd.read_sql_query(query,conn)\n",
    "#conn.close()\n",
    "print(df_prod)"
   ]
  },
  {
   "cell_type": "code",
   "execution_count": 20,
   "id": "f4dbd210",
   "metadata": {},
   "outputs": [
    {
     "name": "stdout",
     "output_type": "stream",
     "text": [
      "Tabla de ventas creada com sucesso.\n"
     ]
    }
   ],
   "source": [
    "# Crear una tabla de ventas\n",
    "cursor.execute('''\n",
    "        CREATE TABLE IF NOT EXISTS ventas(\n",
    "            id_venta INTEGER PRIMARY KEY AUTOINCREMENT,\n",
    "            valor_venta FLOAT NOT NULL,\n",
    "            id_cliente INTEGER NOT NULL,\n",
    "            id_producto INTEGER NOT NULL,\n",
    "            FOREIGN KEY (id_cliente) REFERENCES tablacliente(id),\n",
    "            FOREIGN KEY (id_producto) REFERENCES tablaprod(id_producto))\n",
    "            ''')\n",
    "conn.commit()\n",
    "print('Tabla de ventas creada com sucesso.')"
   ]
  },
  {
   "cell_type": "code",
   "execution_count": 21,
   "id": "0140621e",
   "metadata": {},
   "outputs": [
    {
     "name": "stdout",
     "output_type": "stream",
     "text": [
      "Datos de ventas commitados com sucesso.\n"
     ]
    }
   ],
   "source": [
    "# Insertar datos en la tabla de ventas\n",
    "cursor.execute('''\n",
    "        INSERT INTO ventas\n",
    "            (valor_venta, id_cliente, id_producto)\n",
    "            VALUES\n",
    "            (100.50, 1, 1),\n",
    "            (200.75, 2, 2),\n",
    "            (150.00, 3, 3),\n",
    "            (80.25, 4, 4),\n",
    "            (120.00, 5, 5),\n",
    "            (90.50, 6, 6),\n",
    "            (300.00, 7, 7),\n",
    "            (250.00, 8, 8),\n",
    "            (180.75, 9, 9),\n",
    "            (220.30, 10, 10),\n",
    "            (110.99, 10, 11),\n",
    "            (140.99, 10, 12),\n",
    "            (190.99, 10, 13),\n",
    "            (115.49, 1, 14),\n",
    "            (175.89, 1, 15),\n",
    "            (135.50, 1, 16),\n",
    "            (219.99, 1, 17),\n",
    "            (167.75, 2, 18),\n",
    "            (275.50, 2, 19),\n",
    "            (249.99, 2, 20),\n",
    "            (299.99, 2, 21),\n",
    "            (284.49, 3, 22),\n",
    "            (237.75, 3, 23),\n",
    "            (269.99, 3, 24),\n",
    "            (315.50, 3, 25),\n",
    "            (322.00, 4, 26),\n",
    "            (330.00, 4, 26),\n",
    "            (340.00, 4, 2),\n",
    "            (350.00, 4, 25),\n",
    "            (360.00, 5, 22),\n",
    "            (370.00, 5, 23),\n",
    "            (380.00, 5, 24),\n",
    "            (390.00, 5, 25),\n",
    "            (400.00, 6, 26),\n",
    "            (410.00, 6, 2),\n",
    "            (420.00, 6, 10),\n",
    "            (430.00, 6, 11),\n",
    "            (440.00, 7, 12),\n",
    "            (450.00, 7, 13),\n",
    "            (460.00, 7, 14),\n",
    "            (470.00, 7, 15),\n",
    "            (480.00, 8, 16),\n",
    "            (490.00, 8, 17),\n",
    "            (500.00, 8, 18),\n",
    "            (510.00, 8, 19),\n",
    "            (520.00, 9, 20),\n",
    "            (530.00, 9, 21),\n",
    "            (540.00, 9, 22),\n",
    "            (550.00, 9, 23),\n",
    "            (560.00, 10, 24),\n",
    "            (570.00, 10, 25),\n",
    "            (580.00, 10, 26),\n",
    "            (590.00, 10, 2)''')\n",
    "conn.commit()\n",
    "print('Datos de ventas commitados com sucesso.')"
   ]
  },
  {
   "cell_type": "code",
   "execution_count": 34,
   "id": "4cec48d3",
   "metadata": {},
   "outputs": [
    {
     "name": "stdout",
     "output_type": "stream",
     "text": [
      "    id_venta  valor_venta  id_cliente  id_producto\n",
      "0          1       100.50           1            1\n",
      "1          2       200.75           2            2\n",
      "2          3       150.00           3            3\n",
      "3          4        80.25           4            4\n",
      "4          5       120.00           5            5\n",
      "5          6        90.50           6            6\n",
      "6          7       300.00           7            7\n",
      "7          8       250.00           8            8\n",
      "8          9       180.75           9            9\n",
      "9         10       220.30          10           10\n",
      "10        11       110.99          10           11\n",
      "11        12       140.99          10           12\n",
      "12        13       190.99          10           13\n",
      "13        14       115.49           1           14\n",
      "14        15       175.89           1           15\n",
      "15        16       135.50           1           16\n",
      "16        17       219.99           1           17\n",
      "17        18       167.75           2           18\n",
      "18        19       275.50           2           19\n",
      "19        20       249.99           2           20\n",
      "20        21       299.99           2           21\n",
      "21        22       284.49           3           22\n",
      "22        23       237.75           3           23\n",
      "23        24       269.99           3           24\n",
      "24        25       315.50           3           25\n",
      "25        26       322.00           4           26\n",
      "26        27       330.00           4           26\n",
      "27        28       340.00           4            2\n",
      "28        29       350.00           4           25\n",
      "29        30       360.00           5           22\n",
      "30        31       370.00           5           23\n",
      "31        32       380.00           5           24\n",
      "32        33       390.00           5           25\n",
      "33        34       400.00           6           26\n",
      "34        35       410.00           6            2\n",
      "35        36       420.00           6           10\n",
      "36        37       430.00           6           11\n",
      "37        38       440.00           7           12\n",
      "38        39       450.00           7           13\n",
      "39        40       460.00           7           14\n",
      "40        41       470.00           7           15\n",
      "41        42       480.00           8           16\n",
      "42        43       490.00           8           17\n",
      "43        44       500.00           8           18\n",
      "44        45       510.00           8           19\n",
      "45        46       520.00           9           20\n",
      "46        47       530.00           9           21\n",
      "47        48       540.00           9           22\n",
      "48        49       550.00           9           23\n",
      "49        50       560.00          10           24\n",
      "50        51       570.00          10           25\n",
      "51        52       580.00          10           26\n",
      "52        53       590.00          10            2\n"
     ]
    }
   ],
   "source": [
    "# Consultar datos de la tabla de ventas usando pandas\n",
    "query = ''' \n",
    "    SELECT * FROM ventas'''\n",
    "df_ventas = pd.read_sql_query(query, conn)\n",
    "print(df_ventas)"
   ]
  },
  {
   "cell_type": "code",
   "execution_count": null,
   "id": "d12f3319",
   "metadata": {},
   "outputs": [
    {
     "name": "stdout",
     "output_type": "stream",
     "text": [
      "    id_venta  valor_venta  id_cliente  id_producto\n",
      "0          1       100.50           1            1\n",
      "1         14       115.49           1           14\n",
      "2         16       135.50           1           16\n",
      "3         15       175.89           1           15\n",
      "4         17       219.99           1           17\n",
      "5         18       167.75           2           18\n",
      "6          2       200.75           2            2\n",
      "7         20       249.99           2           20\n",
      "8         19       275.50           2           19\n",
      "9         21       299.99           2           21\n",
      "10         3       150.00           3            3\n",
      "11        23       237.75           3           23\n",
      "12        24       269.99           3           24\n",
      "13        22       284.49           3           22\n",
      "14        25       315.50           3           25\n",
      "15         4        80.25           4            4\n",
      "16        26       322.00           4           26\n",
      "17        27       330.00           4           26\n",
      "18        28       340.00           4            2\n",
      "19        29       350.00           4           25\n",
      "20         5       120.00           5            5\n",
      "21        30       360.00           5           22\n",
      "22        31       370.00           5           23\n",
      "23        32       380.00           5           24\n",
      "24        33       390.00           5           25\n"
     ]
    }
   ],
   "source": [
    "# Manipular datos con comando SELECT\n",
    "query = ''' \n",
    "    SELECT * FROM ventas\n",
    "    WHERE (SELECT sum(valor_venta) FROM ventas) and id_cliente between 1 and 5\n",
    "    ORDER BY id_cliente ASC'''\n",
    "df_ventas_sorted = pd.read_sql_query(query, conn)\n",
    "print(df_ventas_sorted)"
   ]
  }
 ],
 "metadata": {
  "kernelspec": {
   "display_name": "_venv",
   "language": "python",
   "name": "python3"
  },
  "language_info": {
   "codemirror_mode": {
    "name": "ipython",
    "version": 3
   },
   "file_extension": ".py",
   "mimetype": "text/x-python",
   "name": "python",
   "nbconvert_exporter": "python",
   "pygments_lexer": "ipython3",
   "version": "3.13.5"
  }
 },
 "nbformat": 4,
 "nbformat_minor": 5
}
